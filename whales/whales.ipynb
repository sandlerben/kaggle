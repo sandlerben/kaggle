{
 "cells": [
  {
   "cell_type": "code",
   "execution_count": 1,
   "metadata": {},
   "outputs": [
    {
     "name": "stderr",
     "output_type": "stream",
     "text": [
      "/usr/local/lib/python3.6/site-packages/h5py/__init__.py:36: FutureWarning: Conversion of the second argument of issubdtype from `float` to `np.floating` is deprecated. In future, it will be treated as `np.float64 == np.dtype(float).type`.\n",
      "  from ._conv import register_converters as _register_converters\n",
      "Using TensorFlow backend.\n"
     ]
    }
   ],
   "source": [
    "import pandas as pd\n",
    "import numpy as np\n",
    "from collections import Counter\n",
    "# import eli5\n",
    "\n",
    "from sklearn.model_selection import train_test_split, cross_val_score, GridSearchCV\n",
    "from sklearn.svm import LinearSVC, NuSVC\n",
    "\n",
    "from keras.models import Sequential, load_model\n",
    "from keras.layers import Dense, Activation, Conv2D, MaxPool2D, Dropout, Flatten\n",
    "from keras.optimizers import RMSprop\n",
    "from keras.utils import to_categorical\n",
    "from keras.preprocessing.image import ImageDataGenerator\n",
    "from keras.applications.resnet50 import ResNet50\n",
    "\n",
    "import csv\n",
    "\n",
    "# from sklearn.decomposition import PCA"
   ]
  },
  {
   "cell_type": "code",
   "execution_count": 2,
   "metadata": {},
   "outputs": [
    {
     "name": "stdout",
     "output_type": "stream",
     "text": [
      "<class 'pandas.core.frame.DataFrame'>\n",
      "RangeIndex: 9850 entries, 0 to 9849\n",
      "Data columns (total 2 columns):\n",
      "Image    9850 non-null object\n",
      "Id       9850 non-null object\n",
      "dtypes: object(2)\n",
      "memory usage: 154.0+ KB\n"
     ]
    },
    {
     "data": {
      "text/html": [
       "<div>\n",
       "<style scoped>\n",
       "    .dataframe tbody tr th:only-of-type {\n",
       "        vertical-align: middle;\n",
       "    }\n",
       "\n",
       "    .dataframe tbody tr th {\n",
       "        vertical-align: top;\n",
       "    }\n",
       "\n",
       "    .dataframe thead th {\n",
       "        text-align: right;\n",
       "    }\n",
       "</style>\n",
       "<table border=\"1\" class=\"dataframe\">\n",
       "  <thead>\n",
       "    <tr style=\"text-align: right;\">\n",
       "      <th></th>\n",
       "      <th>Image</th>\n",
       "      <th>Id</th>\n",
       "    </tr>\n",
       "  </thead>\n",
       "  <tbody>\n",
       "    <tr>\n",
       "      <th>0</th>\n",
       "      <td>00022e1a.jpg</td>\n",
       "      <td>w_e15442c</td>\n",
       "    </tr>\n",
       "    <tr>\n",
       "      <th>1</th>\n",
       "      <td>000466c4.jpg</td>\n",
       "      <td>w_1287fbc</td>\n",
       "    </tr>\n",
       "    <tr>\n",
       "      <th>2</th>\n",
       "      <td>00087b01.jpg</td>\n",
       "      <td>w_da2efe0</td>\n",
       "    </tr>\n",
       "    <tr>\n",
       "      <th>3</th>\n",
       "      <td>001296d5.jpg</td>\n",
       "      <td>w_19e5482</td>\n",
       "    </tr>\n",
       "    <tr>\n",
       "      <th>4</th>\n",
       "      <td>0014cfdf.jpg</td>\n",
       "      <td>w_f22f3e3</td>\n",
       "    </tr>\n",
       "  </tbody>\n",
       "</table>\n",
       "</div>"
      ],
      "text/plain": [
       "          Image         Id\n",
       "0  00022e1a.jpg  w_e15442c\n",
       "1  000466c4.jpg  w_1287fbc\n",
       "2  00087b01.jpg  w_da2efe0\n",
       "3  001296d5.jpg  w_19e5482\n",
       "4  0014cfdf.jpg  w_f22f3e3"
      ]
     },
     "execution_count": 2,
     "metadata": {},
     "output_type": "execute_result"
    }
   ],
   "source": [
    "train_df = pd.read_csv('train.csv')\n",
    "\n",
    "train_df.info()\n",
    "train_df.head()"
   ]
  },
  {
   "cell_type": "code",
   "execution_count": 3,
   "metadata": {
    "scrolled": false
   },
   "outputs": [],
   "source": [
    "classes = list(train_df['Id'].unique())\n",
    "num_features = len(classes)"
   ]
  },
  {
   "cell_type": "code",
   "execution_count": 4,
   "metadata": {},
   "outputs": [
    {
     "name": "stdout",
     "output_type": "stream",
     "text": [
      "_________________________________________________________________\n",
      "Layer (type)                 Output Shape              Param #   \n",
      "=================================================================\n",
      "resnet50 (Model)             (None, 2048)              23587712  \n",
      "_________________________________________________________________\n",
      "dense_1 (Dense)              (None, 4251)              8710299   \n",
      "=================================================================\n",
      "Total params: 32,298,011\n",
      "Trainable params: 8,710,299\n",
      "Non-trainable params: 23,587,712\n",
      "_________________________________________________________________\n"
     ]
    }
   ],
   "source": [
    "pretrained_model = Sequential()\n",
    "pretrained_model.add(ResNet50(include_top=False, weights='imagenet', pooling='avg'))\n",
    "pretrained_model.add(Dense(num_features, activation='softmax'))\n",
    "\n",
    "pretrained_model.layers[0].trainable = False\n",
    "\n",
    "pretrained_model.compile(\n",
    "    optimizer='adam',\n",
    "    loss='categorical_crossentropy',\n",
    "    metrics=['accuracy']\n",
    ")\n",
    "\n",
    "pretrained_model.summary()"
   ]
  },
  {
   "cell_type": "code",
   "execution_count": 5,
   "metadata": {
    "scrolled": false
   },
   "outputs": [
    {
     "name": "stdout",
     "output_type": "stream",
     "text": [
      "Found 9850 images belonging to 4251 classes.\n",
      "Epoch 1/10\n",
      "308/308 [==============================] - 3985s 13s/step - loss: 8.9218 - acc: 0.0860\n",
      "Epoch 2/10\n",
      "308/308 [==============================] - 3555s 12s/step - loss: 3.2710 - acc: 0.3403\n",
      "Epoch 3/10\n",
      "308/308 [==============================] - 3594s 12s/step - loss: 1.8597 - acc: 0.5836\n",
      "Epoch 4/10\n",
      "308/308 [==============================] - 3656s 12s/step - loss: 1.2712 - acc: 0.7058\n",
      "Epoch 5/10\n",
      "308/308 [==============================] - 3667s 12s/step - loss: 0.9556 - acc: 0.7795\n",
      "Epoch 6/10\n",
      "308/308 [==============================] - 3689s 12s/step - loss: 0.7665 - acc: 0.8207\n",
      "Epoch 7/10\n",
      "308/308 [==============================] - 3693s 12s/step - loss: 0.6581 - acc: 0.8498\n",
      "Epoch 8/10\n",
      "308/308 [==============================] - 3618s 12s/step - loss: 0.5874 - acc: 0.8636\n",
      "Epoch 9/10\n",
      "308/308 [==============================] - 3823s 12s/step - loss: 0.5144 - acc: 0.8797\n",
      "Epoch 10/10\n",
      "308/308 [==============================] - 4334s 14s/step - loss: 0.4835 - acc: 0.8854\n"
     ]
    }
   ],
   "source": [
    "idg_final = ImageDataGenerator(\n",
    "    data_format='channels_last',\n",
    "    rescale=1./255,\n",
    "    width_shift_range = 0.2,\n",
    "    height_shift_range = 0.2,\n",
    "    rotation_range=15,\n",
    ")\n",
    "\n",
    "traing_gen = idg_final.flow_from_directory('./train', classes=classes, target_size=(224, 224), class_mode='categorical')                  \n",
    "\n",
    "pretrained_model.fit_generator(traing_gen, epochs=10, verbose=1)\n",
    "\n",
    "pretrained_model.save('final_model')"
   ]
  },
  {
   "cell_type": "code",
   "execution_count": 6,
   "metadata": {},
   "outputs": [],
   "source": [
    "pretrained_model = load_model('final_model')"
   ]
  },
  {
   "cell_type": "code",
   "execution_count": 10,
   "metadata": {},
   "outputs": [
    {
     "name": "stdout",
     "output_type": "stream",
     "text": [
      "Found 15610 images belonging to 1 classes.\n",
      "488/488 [==============================] - 6753s 14s/step\n"
     ]
    }
   ],
   "source": [
    "# Ignore this, this is to predict on the test set but I'm not going \n",
    "# to worry about this until I can get reasonable results on the training set.\n",
    "\n",
    "idg_testing = ImageDataGenerator(\n",
    "    rescale=1./255,\n",
    "    data_format='channels_last', \n",
    ")\n",
    "\n",
    "testing_gen = idg_testing.flow_from_directory('./test', target_size=(224, 224), class_mode=None, shuffle=False)\n",
    "predictions = pretrained_model.predict_generator(testing_gen, verbose=1)"
   ]
  },
  {
   "cell_type": "code",
   "execution_count": 19,
   "metadata": {},
   "outputs": [
    {
     "name": "stdout",
     "output_type": "stream",
     "text": [
      "True\n"
     ]
    },
    {
     "ename": "ValueError",
     "evalue": "The truth value of an array with more than one element is ambiguous. Use a.any() or a.all()",
     "output_type": "error",
     "traceback": [
      "\u001b[0;31m---------------------------------------------------------------------------\u001b[0m",
      "\u001b[0;31mValueError\u001b[0m                                Traceback (most recent call last)",
      "\u001b[0;32m<ipython-input-19-d00768705efd>\u001b[0m in \u001b[0;36m<module>\u001b[0;34m()\u001b[0m\n\u001b[1;32m     11\u001b[0m \u001b[0mprint\u001b[0m\u001b[0;34m(\u001b[0m\u001b[0mother_classes\u001b[0m \u001b[0;34m==\u001b[0m \u001b[0mclasses\u001b[0m\u001b[0;34m)\u001b[0m\u001b[0;34m\u001b[0m\u001b[0m\n\u001b[1;32m     12\u001b[0m \u001b[0;34m\u001b[0m\u001b[0m\n\u001b[0;32m---> 13\u001b[0;31m \u001b[0mdebug_gen\u001b[0m \u001b[0;34m=\u001b[0m \u001b[0midg_debug\u001b[0m\u001b[0;34m.\u001b[0m\u001b[0mflow_from_directory\u001b[0m\u001b[0;34m(\u001b[0m\u001b[0;34m'./train'\u001b[0m\u001b[0;34m,\u001b[0m \u001b[0mclasses\u001b[0m\u001b[0;34m=\u001b[0m\u001b[0mtraing_gen\u001b[0m\u001b[0;34m.\u001b[0m\u001b[0mclasses\u001b[0m\u001b[0;34m,\u001b[0m \u001b[0mtarget_size\u001b[0m\u001b[0;34m=\u001b[0m\u001b[0;34m(\u001b[0m\u001b[0;36m224\u001b[0m\u001b[0;34m,\u001b[0m \u001b[0;36m224\u001b[0m\u001b[0;34m)\u001b[0m\u001b[0;34m,\u001b[0m \u001b[0mclass_mode\u001b[0m\u001b[0;34m=\u001b[0m\u001b[0;34m'categorical'\u001b[0m\u001b[0;34m)\u001b[0m\u001b[0;34m\u001b[0m\u001b[0m\n\u001b[0m\u001b[1;32m     14\u001b[0m \u001b[0mprint\u001b[0m\u001b[0;34m(\u001b[0m\u001b[0mpretrained_model\u001b[0m\u001b[0;34m.\u001b[0m\u001b[0mevaluate_generator\u001b[0m\u001b[0;34m(\u001b[0m\u001b[0mdebug_gen\u001b[0m\u001b[0;34m)\u001b[0m\u001b[0;34m)\u001b[0m\u001b[0;34m\u001b[0m\u001b[0m\n",
      "\u001b[0;32m/usr/local/lib/python3.6/site-packages/keras/preprocessing/image.py\u001b[0m in \u001b[0;36mflow_from_directory\u001b[0;34m(self, directory, target_size, color_mode, classes, class_mode, batch_size, shuffle, seed, save_to_dir, save_prefix, save_format, follow_links, subset, interpolation)\u001b[0m\n\u001b[1;32m    773\u001b[0m             \u001b[0mfollow_links\u001b[0m\u001b[0;34m=\u001b[0m\u001b[0mfollow_links\u001b[0m\u001b[0;34m,\u001b[0m\u001b[0;34m\u001b[0m\u001b[0m\n\u001b[1;32m    774\u001b[0m             \u001b[0msubset\u001b[0m\u001b[0;34m=\u001b[0m\u001b[0msubset\u001b[0m\u001b[0;34m,\u001b[0m\u001b[0;34m\u001b[0m\u001b[0m\n\u001b[0;32m--> 775\u001b[0;31m             interpolation=interpolation)\n\u001b[0m\u001b[1;32m    776\u001b[0m \u001b[0;34m\u001b[0m\u001b[0m\n\u001b[1;32m    777\u001b[0m     \u001b[0;32mdef\u001b[0m \u001b[0mstandardize\u001b[0m\u001b[0;34m(\u001b[0m\u001b[0mself\u001b[0m\u001b[0;34m,\u001b[0m \u001b[0mx\u001b[0m\u001b[0;34m)\u001b[0m\u001b[0;34m:\u001b[0m\u001b[0;34m\u001b[0m\u001b[0m\n",
      "\u001b[0;32m/usr/local/lib/python3.6/site-packages/keras/preprocessing/image.py\u001b[0m in \u001b[0;36m__init__\u001b[0;34m(self, directory, image_data_generator, target_size, color_mode, classes, class_mode, batch_size, shuffle, seed, data_format, save_to_dir, save_prefix, save_format, follow_links, subset, interpolation)\u001b[0m\n\u001b[1;32m   1388\u001b[0m         \u001b[0mself\u001b[0m\u001b[0;34m.\u001b[0m\u001b[0msamples\u001b[0m \u001b[0;34m=\u001b[0m \u001b[0;36m0\u001b[0m\u001b[0;34m\u001b[0m\u001b[0m\n\u001b[1;32m   1389\u001b[0m \u001b[0;34m\u001b[0m\u001b[0m\n\u001b[0;32m-> 1390\u001b[0;31m         \u001b[0;32mif\u001b[0m \u001b[0;32mnot\u001b[0m \u001b[0mclasses\u001b[0m\u001b[0;34m:\u001b[0m\u001b[0;34m\u001b[0m\u001b[0m\n\u001b[0m\u001b[1;32m   1391\u001b[0m             \u001b[0mclasses\u001b[0m \u001b[0;34m=\u001b[0m \u001b[0;34m[\u001b[0m\u001b[0;34m]\u001b[0m\u001b[0;34m\u001b[0m\u001b[0m\n\u001b[1;32m   1392\u001b[0m             \u001b[0;32mfor\u001b[0m \u001b[0msubdir\u001b[0m \u001b[0;32min\u001b[0m \u001b[0msorted\u001b[0m\u001b[0;34m(\u001b[0m\u001b[0mos\u001b[0m\u001b[0;34m.\u001b[0m\u001b[0mlistdir\u001b[0m\u001b[0;34m(\u001b[0m\u001b[0mdirectory\u001b[0m\u001b[0;34m)\u001b[0m\u001b[0;34m)\u001b[0m\u001b[0;34m:\u001b[0m\u001b[0;34m\u001b[0m\u001b[0m\n",
      "\u001b[0;31mValueError\u001b[0m: The truth value of an array with more than one element is ambiguous. Use a.any() or a.all()"
     ]
    }
   ],
   "source": [
    "# This debug code is for evaluating on the training set.\n",
    "\n",
    "import operator\n",
    "\n",
    "idg_debug = ImageDataGenerator(\n",
    "    data_format='channels_last',\n",
    "    rescale=1./255,\n",
    ")\n",
    "\n",
    "other_classes = [c for (c, _) in sorted(traing_gen.class_indices.items(), key=operator.itemgetter(1))]\n",
    "\n",
    "debug_gen = idg_debug.flow_from_directory('./train', classes=classes, target_size=(224, 224), class_mode='categorical')\n",
    "print(pretrained_model.evaluate_generator(debug_gen))"
   ]
  },
  {
   "cell_type": "code",
   "execution_count": 11,
   "metadata": {},
   "outputs": [],
   "source": [
    "def decode_predictions(preds, class_list, top=5):\n",
    "    decoded = []\n",
    "    \n",
    "    for pred in preds:        \n",
    "        ind = pred.argsort()[-top:][::-1]\n",
    "\n",
    "        class_arr = np.array(class_list)\n",
    "        decoded.append(class_arr[ind])\n",
    "    \n",
    "    return decoded\n",
    "\n",
    "decoded = decode_predictions(predictions, top=5, class_list=classes)\n",
    "\n",
    "assert len(decoded) == len(testing_gen.filenames)\n",
    "\n",
    "with open('predictions.csv', 'w') as f:\n",
    "    writer = csv.writer(f)\n",
    "    writer.writerow(['Image', 'Id'])\n",
    "    \n",
    "    for fname, preds in zip(testing_gen.filenames, decoded):\n",
    "        image = fname.split('/')[1]\n",
    "        writer.writerow([image, ' '.join(preds)])"
   ]
  },
  {
   "cell_type": "code",
   "execution_count": null,
   "metadata": {},
   "outputs": [],
   "source": [
    "# model = Sequential()\n",
    "\n",
    "# model.add(Conv2D(32, kernel_size=(3,3), input_shape=(256,256,1)))\n",
    "# model.add(MaxPool2D(pool_size=(2,2)))\n",
    "# model.add(Dropout(0.25))\n",
    "# model.add(Flatten())\n",
    "# model.add(Dense(256, activation='relu'))\n",
    "# model.add(Dense(num_features, activation='softmax'))\n",
    "\n",
    "# model.compile(\n",
    "#     optimizer='sgd',\n",
    "#     loss='categorical_crossentropy',\n",
    "#     metrics=['accuracy']\n",
    "# )"
   ]
  },
  {
   "cell_type": "code",
   "execution_count": 7,
   "metadata": {},
   "outputs": [],
   "source": [
    "# import os\n",
    "# import shutil\n",
    "\n",
    "# for idx, image, ident in train_df.itertuples():\n",
    "#     label_directory = './train/{}'.format(ident)\n",
    "#     if not os.path.isdir(label_directory):\n",
    "#         os.makedirs(label_directory)\n",
    "    \n",
    "#     shutil.move('./train/{}'.format(image), label_directory)"
   ]
  },
  {
   "cell_type": "code",
   "execution_count": 13,
   "metadata": {},
   "outputs": [
    {
     "name": "stdout",
     "output_type": "stream",
     "text": [
      "Found 9692 images belonging to 4251 classes.\n",
      "Found 158 images belonging to 4251 classes.\n",
      "Epoch 1/1\n",
      "303/303 [==============================] - 5938s 20s/step - loss: 8.0261 - acc: 0.0750 - val_loss: 4.2759 - val_acc: 0.5127\n",
      "['loss', 'acc'] [4.275886239884775, 0.512658228979835]\n"
     ]
    }
   ],
   "source": [
    "# TODO: add more data augmentation\n",
    "# idg_training = ImageDataGenerator(\n",
    "#     data_format='channels_last', \n",
    "#     width_shift_range = 0.2,\n",
    "#     height_shift_range = 0.2,\n",
    "#     rotation_range=45,\n",
    "#     zca_whitening=True, \n",
    "#     validation_split=0.1 \n",
    "# )\n",
    "\n",
    "# traing_gen = idg_training.flow_from_directory('./train', subset='training', classes=classes, target_size=(224, 224), class_mode='categorical')\n",
    "# validation_gen = idg_training.flow_from_directory('./train', subset='validation', classes=classes, target_size=(224, 224), class_mode='categorical')\n",
    "\n",
    "# pretrained_model.fit_generator(traing_gen, epochs=1, verbose=1, validation_data=validation_gen)\n",
    "# print(pretrained_model.model.metrics_names, pretrained_model.evaluate_generator(validation_gen))\n",
    "\n",
    "# pretrained_model.save('training_model')"
   ]
  }
 ],
 "metadata": {
  "kernelspec": {
   "display_name": "Python 3",
   "language": "python",
   "name": "python3"
  },
  "language_info": {
   "codemirror_mode": {
    "name": "ipython",
    "version": 3
   },
   "file_extension": ".py",
   "mimetype": "text/x-python",
   "name": "python",
   "nbconvert_exporter": "python",
   "pygments_lexer": "ipython3",
   "version": "3.6.5"
  }
 },
 "nbformat": 4,
 "nbformat_minor": 2
}
